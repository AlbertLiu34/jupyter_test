{
 "cells": [
  {
   "cell_type": "code",
   "execution_count": 1,
   "metadata": {},
   "outputs": [],
   "source": [
    "#导入sqlite3数据库\n",
    "import sqlite3 as sq3"
   ]
  },
  {
   "cell_type": "markdown",
   "metadata": {},
   "source": [
    "#在sqlite3数据库上存取数据"
   ]
  },
  {
   "cell_type": "markdown",
   "metadata": {},
   "source": [
    "##SQLite 是一个软件库，实现了自给自足的、无服务器的、零配置的、事务性的 SQL 数据库引擎。SQLite 是在世界上最广泛部署的 SQL 数据库引擎。可以直接在本地以一个文件的形式保存这个数据库。\n",
    "##数据类型\n",
    "##NULL\t值是一个 NULL 值。\n",
    "##INTEGER\t值是一个带符号的整数，根据值的大小存储在 1、2、3、4、6 或 8 字节中。\n",
    "##REAL\t值是一个浮点值，存储为 8 字节的 IEEE 浮点数字。\n",
    "##TEXT\t值是一个文本字符串，使用数据库编码（UTF-8、UTF-16BE 或 UTF-16LE）存储。\n",
    "##BLOB\t值是一个 blob 数据，完全根据它的输入存储。"
   ]
  },
  {
   "cell_type": "markdown",
   "metadata": {},
   "source": [
    "##创建数据库和表"
   ]
  },
  {
   "cell_type": "code",
   "execution_count": 6,
   "metadata": {},
   "outputs": [],
   "source": [
    "path  = r'C:\\Users\\Administrator\\Desktop\\\\'\n",
    "#先在桌面创建一个数据库，直接连接没有就会创建一个\n",
    "#connect 连接一个数据库\n",
    "con =  sq3.connect(path+'data.db')\n",
    "#创建一个表 并说明表内容的数据类型(列名 列类型,)\n",
    "con.execute('CREATE TABLE numbs (Date date,No1 real,No2 real)')\n",
    "#执行完都要提交\n",
    "con.commit()"
   ]
  },
  {
   "cell_type": "markdown",
   "metadata": {},
   "source": [
    "##写入数据"
   ]
  },
  {
   "cell_type": "code",
   "execution_count": 7,
   "metadata": {},
   "outputs": [
    {
     "data": {
      "text/plain": [
       "<sqlite3.Cursor at 0x4585620>"
      ]
     },
     "execution_count": 7,
     "metadata": {},
     "output_type": "execute_result"
    }
   ],
   "source": [
    "import datetime as dt\n",
    "con.execute('INSERT INTO numbs VALUES(?,?,?)',(dt.datetime.now(),0.15,8.9))"
   ]
  },
  {
   "cell_type": "code",
   "execution_count": 10,
   "metadata": {},
   "outputs": [],
   "source": [
    "#继续写入多条数据\n",
    "import numpy as np\n",
    "data = np.random.standard_normal((10000,2)).round(5) #取一万行2列的标准正态分布的随机数\n",
    "for row in data:\n",
    "    con.execute('INSERT INTO numbs VALUES(?,?,?)',(dt.datetime.now(),row[0],row[1]))\n",
    "con.commit()"
   ]
  },
  {
   "cell_type": "code",
   "execution_count": 11,
   "metadata": {},
   "outputs": [],
   "source": [
    "#executemany 可以同时写入多条语句"
   ]
  },
  {
   "cell_type": "markdown",
   "metadata": {},
   "source": [
    "##查询语句"
   ]
  },
  {
   "cell_type": "code",
   "execution_count": 12,
   "metadata": {},
   "outputs": [
    {
     "data": {
      "text/plain": [
       "[('2018-10-22 11:21:12.648815', 0.15, 8.9),\n",
       " ('2018-10-22 11:26:28.671815', 0.29718, 0.77922),\n",
       " ('2018-10-22 11:26:28.671815', -0.57827, -1.47588),\n",
       " ('2018-10-22 11:26:28.671815', -0.50187, 0.93039),\n",
       " ('2018-10-22 11:26:28.671815', 0.03735, -0.77777),\n",
       " ('2018-10-22 11:26:28.672815', -0.87427, 0.76802),\n",
       " ('2018-10-22 11:26:28.672815', -1.12873, -0.63251),\n",
       " ('2018-10-22 11:26:28.672815', 1.15961, -0.00587),\n",
       " ('2018-10-22 11:26:28.672815', 0.93483, -1.439),\n",
       " ('2018-10-22 11:26:28.672815', -1.75245, 1.86312)]"
      ]
     },
     "execution_count": 12,
     "metadata": {},
     "output_type": "execute_result"
    }
   ],
   "source": [
    "con.execute('SELECT * FROM numbs').fetchmany(10) #获取前十条 fetchone 获取一条"
   ]
  },
  {
   "cell_type": "code",
   "execution_count": 13,
   "metadata": {},
   "outputs": [
    {
     "name": "stdout",
     "output_type": "stream",
     "text": [
      "('2018-10-22 11:21:12.648815', 0.15, 8.9)\n",
      "('2018-10-22 11:26:28.671815', 0.29718, 0.77922)\n",
      "('2018-10-22 11:26:28.671815', -0.57827, -1.47588)\n",
      "('2018-10-22 11:26:28.671815', -0.50187, 0.93039)\n",
      "('2018-10-22 11:26:28.671815', 0.03735, -0.77777)\n"
     ]
    }
   ],
   "source": [
    "pointer = con.execute('SELECT * FROM numbs')\n",
    "for i in range(5):\n",
    "    print(pointer.fetchone())"
   ]
  },
  {
   "cell_type": "code",
   "execution_count": 26,
   "metadata": {},
   "outputs": [],
   "source": [
    "con.close()#最后要关闭下"
   ]
  },
  {
   "cell_type": "markdown",
   "metadata": {},
   "source": [
    "#numpy存取数据"
   ]
  },
  {
   "cell_type": "code",
   "execution_count": 23,
   "metadata": {},
   "outputs": [],
   "source": [
    "import numpy\n",
    "dtimes = np.arange('2015-01-01 00:00:00','2018-01-01 00:00:00',dtype='datetime64[m]')#从15年到18年分钟级别的时间序列\n",
    "num = np.random.standard_normal((len(dtimes),2)).round(5)\n",
    "dty = np.dtype([('Date','datetime64[m]'),('No1','f'),('No2','f')]) #创建一个格式\n",
    "data = np.zeros(len(dtimes),dtype=dty)\n",
    "data['Date'] = dtimes\n",
    "data['No1'] = num[:,0]\n",
    "data['No2'] = num[:,1]"
   ]
  },
  {
   "cell_type": "code",
   "execution_count": 31,
   "metadata": {},
   "outputs": [
    {
     "data": {
      "text/plain": [
       "(array([('2015-01-01T00:00',  0.04097, -0.54075),\n",
       "        ('2015-01-01T00:01', -0.75385,  1.41079),\n",
       "        ('2015-01-01T00:02',  2.00047,  1.26664), ...,\n",
       "        ('2017-12-31T23:57',  1.47982,  0.37779),\n",
       "        ('2017-12-31T23:58', -0.58949,  0.03246),\n",
       "        ('2017-12-31T23:59',  0.10904, -0.19098)],\n",
       "       dtype=[('Date', '<M8[m]'), ('No1', '<f4'), ('No2', '<f4')]), 1578240)"
      ]
     },
     "execution_count": 31,
     "metadata": {},
     "output_type": "execute_result"
    }
   ],
   "source": [
    "data,len(data)"
   ]
  },
  {
   "cell_type": "code",
   "execution_count": 25,
   "metadata": {},
   "outputs": [
    {
     "name": "stdout",
     "output_type": "stream",
     "text": [
      "Wall time: 44 ms\n"
     ]
    }
   ],
   "source": [
    "%time np.save(path+'num',data)#1578240行3列数据"
   ]
  },
  {
   "cell_type": "code",
   "execution_count": 29,
   "metadata": {
    "scrolled": true
   },
   "outputs": [
    {
     "name": "stdout",
     "output_type": "stream",
     "text": [
      "Wall time: 30 ms\n"
     ]
    },
    {
     "data": {
      "text/plain": [
       "array([('2015-01-01T00:00',  0.04097, -0.54075),\n",
       "       ('2015-01-01T00:01', -0.75385,  1.41079),\n",
       "       ('2015-01-01T00:02',  2.00047,  1.26664), ...,\n",
       "       ('2017-12-31T23:57',  1.47982,  0.37779),\n",
       "       ('2017-12-31T23:58', -0.58949,  0.03246),\n",
       "       ('2017-12-31T23:59',  0.10904, -0.19098)],\n",
       "      dtype=[('Date', '<M8[m]'), ('No1', '<f4'), ('No2', '<f4')])"
      ]
     },
     "execution_count": 29,
     "metadata": {},
     "output_type": "execute_result"
    }
   ],
   "source": [
    "#只用了44毫秒 读取用load用了33ms\n",
    "%time np.load(path+'num.npy')"
   ]
  },
  {
   "cell_type": "code",
   "execution_count": 59,
   "metadata": {},
   "outputs": [],
   "source": [
    "#pandas 和 sql3"
   ]
  },
  {
   "cell_type": "code",
   "execution_count": 38,
   "metadata": {},
   "outputs": [],
   "source": [
    "import pandas as pd\n",
    "import sqlite3 as sq3"
   ]
  },
  {
   "cell_type": "code",
   "execution_count": 39,
   "metadata": {},
   "outputs": [],
   "source": [
    "data = np.random.standard_normal((1000000,5)).round(5)\n",
    "file = path+'numbers'"
   ]
  },
  {
   "cell_type": "code",
   "execution_count": 45,
   "metadata": {},
   "outputs": [
    {
     "name": "stdout",
     "output_type": "stream",
     "text": [
      "Wall time: 7.15 s\n"
     ]
    }
   ],
   "source": [
    "con = sq3.connect(file+'.db')\n",
    "con.execute('CREATE TABLE number (No1 real,No2 real,No3 real,No4 real,No5 real)')\n",
    "%time con.executemany('INSERT INTO number VALUES(?,?,?,?,?)',data)\n",
    "con.commit()#存用了7.15s"
   ]
  },
  {
   "cell_type": "code",
   "execution_count": 46,
   "metadata": {},
   "outputs": [
    {
     "name": "stdout",
     "output_type": "stream",
     "text": [
      "Wall time: 1.54 s\n"
     ]
    }
   ],
   "source": [
    "#读取用了1.54S\n",
    "%time temp = con.execute('SELECT * FROM number').fetchall()"
   ]
  },
  {
   "cell_type": "code",
   "execution_count": 54,
   "metadata": {},
   "outputs": [
    {
     "name": "stdout",
     "output_type": "stream",
     "text": [
      "Wall time: 506 ms\n"
     ]
    }
   ],
   "source": [
    "%time temp = con.execute('SELECT * FROM number WHERE No1>0 AND No2>0').fetchall() #506ms"
   ]
  },
  {
   "cell_type": "code",
   "execution_count": 51,
   "metadata": {},
   "outputs": [
    {
     "name": "stdout",
     "output_type": "stream",
     "text": [
      "Wall time: 2 s\n"
     ]
    }
   ],
   "source": [
    "%time data = pd.read_sql('SELECT * FROM number',con) #在刚那个连接下 用pandas来读取数据 2s"
   ]
  },
  {
   "cell_type": "code",
   "execution_count": 52,
   "metadata": {},
   "outputs": [
    {
     "data": {
      "text/html": [
       "<div>\n",
       "<style scoped>\n",
       "    .dataframe tbody tr th:only-of-type {\n",
       "        vertical-align: middle;\n",
       "    }\n",
       "\n",
       "    .dataframe tbody tr th {\n",
       "        vertical-align: top;\n",
       "    }\n",
       "\n",
       "    .dataframe thead th {\n",
       "        text-align: right;\n",
       "    }\n",
       "</style>\n",
       "<table border=\"1\" class=\"dataframe\">\n",
       "  <thead>\n",
       "    <tr style=\"text-align: right;\">\n",
       "      <th></th>\n",
       "      <th>No1</th>\n",
       "      <th>No2</th>\n",
       "      <th>No3</th>\n",
       "      <th>No4</th>\n",
       "      <th>No5</th>\n",
       "    </tr>\n",
       "  </thead>\n",
       "  <tbody>\n",
       "    <tr>\n",
       "      <th>0</th>\n",
       "      <td>-1.79826</td>\n",
       "      <td>0.82435</td>\n",
       "      <td>-1.40551</td>\n",
       "      <td>-0.36927</td>\n",
       "      <td>0.08287</td>\n",
       "    </tr>\n",
       "    <tr>\n",
       "      <th>1</th>\n",
       "      <td>-0.51695</td>\n",
       "      <td>0.45340</td>\n",
       "      <td>-1.34435</td>\n",
       "      <td>-0.42546</td>\n",
       "      <td>0.15916</td>\n",
       "    </tr>\n",
       "    <tr>\n",
       "      <th>2</th>\n",
       "      <td>0.91593</td>\n",
       "      <td>2.21501</td>\n",
       "      <td>1.42353</td>\n",
       "      <td>1.15832</td>\n",
       "      <td>-1.12079</td>\n",
       "    </tr>\n",
       "    <tr>\n",
       "      <th>3</th>\n",
       "      <td>1.47658</td>\n",
       "      <td>1.45143</td>\n",
       "      <td>0.07586</td>\n",
       "      <td>2.19290</td>\n",
       "      <td>0.84683</td>\n",
       "    </tr>\n",
       "    <tr>\n",
       "      <th>4</th>\n",
       "      <td>0.55358</td>\n",
       "      <td>0.49137</td>\n",
       "      <td>0.30631</td>\n",
       "      <td>-1.28332</td>\n",
       "      <td>-0.33700</td>\n",
       "    </tr>\n",
       "  </tbody>\n",
       "</table>\n",
       "</div>"
      ],
      "text/plain": [
       "       No1      No2      No3      No4      No5\n",
       "0 -1.79826  0.82435 -1.40551 -0.36927  0.08287\n",
       "1 -0.51695  0.45340 -1.34435 -0.42546  0.15916\n",
       "2  0.91593  2.21501  1.42353  1.15832 -1.12079\n",
       "3  1.47658  1.45143  0.07586  2.19290  0.84683\n",
       "4  0.55358  0.49137  0.30631 -1.28332 -0.33700"
      ]
     },
     "execution_count": 52,
     "metadata": {},
     "output_type": "execute_result"
    }
   ],
   "source": [
    "data.head()"
   ]
  },
  {
   "cell_type": "code",
   "execution_count": 58,
   "metadata": {},
   "outputs": [
    {
     "name": "stdout",
     "output_type": "stream",
     "text": [
      "Wall time: 33 ms\n"
     ]
    },
    {
     "data": {
      "text/html": [
       "<div>\n",
       "<style scoped>\n",
       "    .dataframe tbody tr th:only-of-type {\n",
       "        vertical-align: middle;\n",
       "    }\n",
       "\n",
       "    .dataframe tbody tr th {\n",
       "        vertical-align: top;\n",
       "    }\n",
       "\n",
       "    .dataframe thead th {\n",
       "        text-align: right;\n",
       "    }\n",
       "</style>\n",
       "<table border=\"1\" class=\"dataframe\">\n",
       "  <thead>\n",
       "    <tr style=\"text-align: right;\">\n",
       "      <th></th>\n",
       "      <th>No1</th>\n",
       "      <th>No2</th>\n",
       "      <th>No3</th>\n",
       "      <th>No4</th>\n",
       "      <th>No5</th>\n",
       "    </tr>\n",
       "  </thead>\n",
       "  <tbody>\n",
       "    <tr>\n",
       "      <th>2</th>\n",
       "      <td>0.91593</td>\n",
       "      <td>2.21501</td>\n",
       "      <td>1.42353</td>\n",
       "      <td>1.15832</td>\n",
       "      <td>-1.12079</td>\n",
       "    </tr>\n",
       "    <tr>\n",
       "      <th>3</th>\n",
       "      <td>1.47658</td>\n",
       "      <td>1.45143</td>\n",
       "      <td>0.07586</td>\n",
       "      <td>2.19290</td>\n",
       "      <td>0.84683</td>\n",
       "    </tr>\n",
       "    <tr>\n",
       "      <th>4</th>\n",
       "      <td>0.55358</td>\n",
       "      <td>0.49137</td>\n",
       "      <td>0.30631</td>\n",
       "      <td>-1.28332</td>\n",
       "      <td>-0.33700</td>\n",
       "    </tr>\n",
       "    <tr>\n",
       "      <th>5</th>\n",
       "      <td>0.21947</td>\n",
       "      <td>1.24194</td>\n",
       "      <td>-0.93061</td>\n",
       "      <td>-0.59302</td>\n",
       "      <td>-1.61158</td>\n",
       "    </tr>\n",
       "    <tr>\n",
       "      <th>6</th>\n",
       "      <td>0.32374</td>\n",
       "      <td>1.20406</td>\n",
       "      <td>-0.04163</td>\n",
       "      <td>-1.12897</td>\n",
       "      <td>-0.27521</td>\n",
       "    </tr>\n",
       "  </tbody>\n",
       "</table>\n",
       "</div>"
      ],
      "text/plain": [
       "       No1      No2      No3      No4      No5\n",
       "2  0.91593  2.21501  1.42353  1.15832 -1.12079\n",
       "3  1.47658  1.45143  0.07586  2.19290  0.84683\n",
       "4  0.55358  0.49137  0.30631 -1.28332 -0.33700\n",
       "5  0.21947  1.24194 -0.93061 -0.59302 -1.61158\n",
       "6  0.32374  1.20406 -0.04163 -1.12897 -0.27521"
      ]
     },
     "execution_count": 58,
     "metadata": {},
     "output_type": "execute_result"
    }
   ],
   "source": [
    "%time data[(data['No1']>0) & (data['No2']>0)].head() #37ms 比每次从数据库调取快很多 所以可以将数据先取出在做处理"
   ]
  },
  {
   "cell_type": "code",
   "execution_count": 60,
   "metadata": {},
   "outputs": [],
   "source": [
    "con.close()"
   ]
  },
  {
   "cell_type": "markdown",
   "metadata": {},
   "source": [
    "#pandas 存取数据"
   ]
  },
  {
   "cell_type": "code",
   "execution_count": 61,
   "metadata": {},
   "outputs": [
    {
     "name": "stdout",
     "output_type": "stream",
     "text": [
      "Wall time: 6.77 s\n"
     ]
    }
   ],
   "source": [
    "%time data.to_csv(file+'.csv') #6.77s存csv文件"
   ]
  },
  {
   "cell_type": "code",
   "execution_count": 63,
   "metadata": {},
   "outputs": [
    {
     "name": "stdout",
     "output_type": "stream",
     "text": [
      "Wall time: 1.03 s\n"
     ]
    }
   ],
   "source": [
    "#读取数据\n",
    "%time datas = pd.read_csv(file+'.csv') #1.03s\n",
    "#excel就不测试了 太慢了 分别用 pd.read_excel 和pd.to_excel存取"
   ]
  },
  {
   "cell_type": "markdown",
   "metadata": {},
   "source": [
    "#Pytables"
   ]
  },
  {
   "cell_type": "code",
   "execution_count": 66,
   "metadata": {},
   "outputs": [],
   "source": [
    "import tables as tb\n",
    "import pandas as pd\n",
    "import numpy as np \n",
    "import matplotlib.pyplot as plt\n",
    "%matplotlib inline"
   ]
  },
  {
   "cell_type": "code",
   "execution_count": 82,
   "metadata": {},
   "outputs": [],
   "source": [
    "h5 = tb.open_file(path+'tab.h5','w') #以读形式打开 没有即为创建一个tab.h5\n",
    "rows = 2000000\n",
    "row_des = {\n",
    "    'Date':tb.StringCol(30,pos=1),\n",
    "    'No1':tb.IntCol(pos=2),\n",
    "    'No2':tb.IntCol(pos=3),\n",
    "    'No3':tb.FloatCol(pos=4),\n",
    "    'No4':tb.FloatCol(pos=5)\n",
    "}\n",
    "filters = tb.Filters(complevel=0) #压缩程度为0\n",
    "tab = h5.create_table('/','ints_floats',row_des,title='Integers',expectedrows=rows,filters=filters)"
   ]
  },
  {
   "cell_type": "code",
   "execution_count": 68,
   "metadata": {
    "scrolled": true
   },
   "outputs": [
    {
     "data": {
      "text/plain": [
       "/ints_floats (Table(0,)) 'Integers'\n",
       "  description := {\n",
       "  \"Date\": StringCol(itemsize=30, shape=(), dflt=b'', pos=0),\n",
       "  \"No1\": Int32Col(shape=(), dflt=0, pos=1),\n",
       "  \"No2\": Int32Col(shape=(), dflt=0, pos=2),\n",
       "  \"No3\": Float64Col(shape=(), dflt=0.0, pos=3),\n",
       "  \"No4\": Float64Col(shape=(), dflt=0.0, pos=4)}\n",
       "  byteorder := 'little'\n",
       "  chunkshape := (4854,)"
      ]
     },
     "execution_count": 68,
     "metadata": {},
     "output_type": "execute_result"
    }
   ],
   "source": [
    "tab"
   ]
  },
  {
   "cell_type": "code",
   "execution_count": 71,
   "metadata": {},
   "outputs": [],
   "source": [
    "ran_int = np.random.randint(0,10000,size=(rows,2))"
   ]
  },
  {
   "cell_type": "code",
   "execution_count": 84,
   "metadata": {},
   "outputs": [],
   "source": [
    "ran_flo = np.random.standard_normal((rows,2)).round(5)"
   ]
  },
  {
   "cell_type": "code",
   "execution_count": 85,
   "metadata": {},
   "outputs": [],
   "source": [
    "pointer = tab.row\n",
    "#写入数据\n",
    "for i in range(rows):\n",
    "    pointer['Date']=dt.datetime.now()\n",
    "    pointer['No1']=ran_int[i,0]\n",
    "    pointer['No2']=ran_int[i,1]\n",
    "    pointer['No3']=ran_flo[i,0]\n",
    "    pointer['No4']=ran_flo[i,1]\n",
    "    pointer.append()\n",
    "tab.flush()  #刷新相当于commit提交"
   ]
  },
  {
   "cell_type": "code",
   "execution_count": 86,
   "metadata": {},
   "outputs": [
    {
     "data": {
      "text/plain": [
       "/ints_floats (Table(2000000,)) 'Integers'\n",
       "  description := {\n",
       "  \"Date\": StringCol(itemsize=30, shape=(), dflt=b'', pos=0),\n",
       "  \"No1\": Int32Col(shape=(), dflt=0, pos=1),\n",
       "  \"No2\": Int32Col(shape=(), dflt=0, pos=2),\n",
       "  \"No3\": Float64Col(shape=(), dflt=0.0, pos=3),\n",
       "  \"No4\": Float64Col(shape=(), dflt=0.0, pos=4)}\n",
       "  byteorder := 'little'\n",
       "  chunkshape := (4854,)"
      ]
     },
     "execution_count": 86,
     "metadata": {},
     "output_type": "execute_result"
    }
   ],
   "source": [
    "tab"
   ]
  },
  {
   "cell_type": "code",
   "execution_count": 90,
   "metadata": {},
   "outputs": [
    {
     "data": {
      "text/plain": [
       "/from_numpy (Table(2000000,)) 'Integers'\n",
       "  description := {\n",
       "  \"Date\": StringCol(itemsize=26, shape=(), dflt=b'', pos=0),\n",
       "  \"No1\": Int32Col(shape=(), dflt=0, pos=1),\n",
       "  \"No2\": Int32Col(shape=(), dflt=0, pos=2),\n",
       "  \"No3\": Float64Col(shape=(), dflt=0.0, pos=3),\n",
       "  \"No4\": Float64Col(shape=(), dflt=0.0, pos=4)}\n",
       "  byteorder := 'little'\n",
       "  chunkshape := (2621,)"
      ]
     },
     "execution_count": 90,
     "metadata": {},
     "output_type": "execute_result"
    }
   ],
   "source": [
    "#用numpy写入\n",
    "dty = np.dtype([('Date','S26'),('No1','<i4'),('No2','<i4'),('No3','<f8'),('No4','<f8')])\n",
    "sarry = np.zeros(len(ran_int),dtype=dty)\n",
    "sarry['Date'] = dt.datetime.now()\n",
    "sarry['No1']=ran_int[i,0]\n",
    "sarry['No2']=ran_int[i,1]\n",
    "sarry['No3']=ran_flo[i,0]\n",
    "sarry['No4']=ran_flo[i,1]\n",
    "h5.create_table('/','from_numpy',sarry,title='Integers',expectedrows=rows,filters=filters)"
   ]
  },
  {
   "cell_type": "code",
   "execution_count": 91,
   "metadata": {},
   "outputs": [
    {
     "data": {
      "text/plain": [
       "File(filename=C:\\Users\\Administrator\\Desktop\\\\tab.h5, title='', mode='w', root_uep='/', filters=Filters(complevel=0, shuffle=False, bitshuffle=False, fletcher32=False, least_significant_digit=None))\n",
       "/ (RootGroup) ''\n",
       "/from_numpy (Table(2000000,)) 'Integers'\n",
       "  description := {\n",
       "  \"Date\": StringCol(itemsize=26, shape=(), dflt=b'', pos=0),\n",
       "  \"No1\": Int32Col(shape=(), dflt=0, pos=1),\n",
       "  \"No2\": Int32Col(shape=(), dflt=0, pos=2),\n",
       "  \"No3\": Float64Col(shape=(), dflt=0.0, pos=3),\n",
       "  \"No4\": Float64Col(shape=(), dflt=0.0, pos=4)}\n",
       "  byteorder := 'little'\n",
       "  chunkshape := (2621,)\n",
       "/ints_floats (Table(2000000,)) 'Integers'\n",
       "  description := {\n",
       "  \"Date\": StringCol(itemsize=30, shape=(), dflt=b'', pos=0),\n",
       "  \"No1\": Int32Col(shape=(), dflt=0, pos=1),\n",
       "  \"No2\": Int32Col(shape=(), dflt=0, pos=2),\n",
       "  \"No3\": Float64Col(shape=(), dflt=0.0, pos=3),\n",
       "  \"No4\": Float64Col(shape=(), dflt=0.0, pos=4)}\n",
       "  byteorder := 'little'\n",
       "  chunkshape := (4854,)"
      ]
     },
     "execution_count": 91,
     "metadata": {},
     "output_type": "execute_result"
    }
   ],
   "source": [
    "h5"
   ]
  },
  {
   "cell_type": "code",
   "execution_count": 92,
   "metadata": {},
   "outputs": [
    {
     "data": {
      "text/plain": [
       "array([(b'2018-10-23 10:05:16.151815',  239, 6731,  1.63503, -0.07538),\n",
       "       (b'2018-10-23 10:05:16.151815', 3853, 5744, -1.49574,  1.51015),\n",
       "       (b'2018-10-23 10:05:16.151815', 5531, 7600,  1.04293,  0.51946),\n",
       "       (b'2018-10-23 10:05:16.151815', 9869, 5498, -0.99279, -1.40255),\n",
       "       (b'2018-10-23 10:05:16.151815', 4127, 4792, -0.53687,  1.09767)],\n",
       "      dtype=[('Date', 'S30'), ('No1', '<i4'), ('No2', '<i4'), ('No3', '<f8'), ('No4', '<f8')])"
      ]
     },
     "execution_count": 92,
     "metadata": {},
     "output_type": "execute_result"
    }
   ],
   "source": [
    "tab[:5]"
   ]
  },
  {
   "cell_type": "code",
   "execution_count": 93,
   "metadata": {},
   "outputs": [
    {
     "data": {
      "text/plain": [
       "array([ 1.63503, -1.49574,  1.04293, -0.99279, -0.53687])"
      ]
     },
     "execution_count": 93,
     "metadata": {},
     "output_type": "execute_result"
    }
   ],
   "source": [
    "tab[:5]['No3']"
   ]
  },
  {
   "cell_type": "code",
   "execution_count": 94,
   "metadata": {},
   "outputs": [
    {
     "data": {
      "text/plain": [
       "-700.4649299999994"
      ]
     },
     "execution_count": 94,
     "metadata": {},
     "output_type": "execute_result"
    }
   ],
   "source": [
    "#计算\n",
    "np.sum(tab[:]['No4'])"
   ]
  },
  {
   "cell_type": "code",
   "execution_count": 95,
   "metadata": {},
   "outputs": [],
   "source": [
    "h5.close()"
   ]
  },
  {
   "cell_type": "markdown",
   "metadata": {},
   "source": [
    "# with open 打开文件"
   ]
  },
  {
   "cell_type": "code",
   "execution_count": 98,
   "metadata": {},
   "outputs": [
    {
     "name": "stdout",
     "output_type": "stream",
     "text": [
      ",No1,No2,No3,No4,No5\n",
      "\n",
      "0,-1.79826,0.82435,-1.40551,-0.36927,0.08287\n",
      "\n",
      "1,-0.51695,0.4534,-1.34435,-0.42546,0.15916\n",
      "\n",
      "2,0.91593,2.21501,1.42353,1.15832,-1.12079\n",
      "\n",
      "3,1.47658,1.45143,0.07586,2.1929,0.84683\n",
      "\n",
      "[',No1,No2,No3,No4,No5\\n', '0,-1.79826,0.82435,-1.40551,-0.36927,0.08287\\n', '1,-0.51695,0.4534,-1.34435,-0.42546,0.15916\\n', '2,0.91593,2.21501,1.42353,1.15832,-1.12079\\n', '3,1.47658,1.45143,0.07586,2.1929,0.84683\\n', '4,0.55358,0.49137,0.30631,-1.28332,-0.337\\n', '5,0.21947,1.24194,-0.93061,-0.59302,-1.61158\\n', '6,0.32374,1.20406,-0.04163,-1.12897,-0.27521\\n', '7,1.10115,0.74315,-0.92262,0.11751,-1.86326\\n', '8,-1.39651,-0.70339,-0.67668,0.07697,1.18436\\n']\n"
     ]
    }
   ],
   "source": [
    "#用with open 后面不用close关闭\n",
    "#readlines 是将所有内容读出每一行为一个列表\n",
    "with open(path+'numbers.csv','r') as f:\n",
    "    content = f.readlines()\n",
    "    for line in content[:5]:\n",
    "        print(line)\n",
    "    print(content[:10])"
   ]
  },
  {
   "cell_type": "code",
   "execution_count": 99,
   "metadata": {},
   "outputs": [
    {
     "name": "stdout",
     "output_type": "stream",
     "text": [
      ",No1,No2,No3,No4,No5\n",
      "\n",
      "0,-1.79826,0.82435,-1.40551,-0.36927,0.08287\n",
      "\n",
      "1,-0.51695,0.4534,-1.34435,-0.42546,0.15916\n",
      "\n",
      "2,0.91593,2.21501,1.42353,1.15832,-1.12079\n",
      "\n",
      "3,1.47658,1.45143,0.07586,2.1929,0.84683\n",
      "\n"
     ]
    }
   ],
   "source": [
    "with open(path+'numbers.csv','r') as f:\n",
    "    content = f.readlines()\n",
    "    for line in content[:5]:\n",
    "        print(line)"
   ]
  },
  {
   "cell_type": "code",
   "execution_count": null,
   "metadata": {},
   "outputs": [],
   "source": []
  }
 ],
 "metadata": {
  "kernelspec": {
   "display_name": "Python 3",
   "language": "python",
   "name": "python3"
  },
  "language_info": {
   "codemirror_mode": {
    "name": "ipython",
    "version": 3
   },
   "file_extension": ".py",
   "mimetype": "text/x-python",
   "name": "python",
   "nbconvert_exporter": "python",
   "pygments_lexer": "ipython3",
   "version": "3.6.1"
  }
 },
 "nbformat": 4,
 "nbformat_minor": 2
}
